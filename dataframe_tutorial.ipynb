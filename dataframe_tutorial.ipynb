{
 "cells": [
  {
   "cell_type": "code",
   "execution_count": null,
   "id": "2ec4e5e7",
   "metadata": {},
   "outputs": [],
   "source": [
    "# We can consider dataframe as a Dictionary in Python in which keys are the columns and values are the rows\n",
    "# E.g.\n",
    "# Person = {\n",
    "#    \"first\": \"[Raze, Reyna, Jett]\"   first is the column name and values(list) are the values for the column \n",
    "#    \"last\": \"[Breach, Brim, Sova]\" \n",
    "#   }"
   ]
  },
  {
   "cell_type": "code",
   "execution_count": null,
   "id": "0c0f4310",
   "metadata": {},
   "outputs": [],
   "source": [
    "person = {\n",
    "    \"first\": [\"Tony\", \"Steve\", \"Doctor\", \"Morgan\"],\n",
    "    \"last\": [\"Stark\", \"Rogers\", \"Strange\", \"Stark\"],\n",
    "    \"email\": [\"tonystark@email.com\", \"steverogers@email.com\", \"doctorstrange@email.com\", \"morganstark@email.com\"]\n",
    "}"
   ]
  },
  {
   "cell_type": "code",
   "execution_count": null,
   "id": "08b9f073",
   "metadata": {},
   "outputs": [],
   "source": [
    "person['Email'] # fetching email column from the dataframe"
   ]
  },
  {
   "cell_type": "code",
   "execution_count": 1,
   "id": "46a905d1",
   "metadata": {},
   "outputs": [],
   "source": [
    "import pandas as pd\n",
    "import numpy as np"
   ]
  },
  {
   "cell_type": "code",
   "execution_count": null,
   "id": "6d4dc879",
   "metadata": {},
   "outputs": [],
   "source": [
    "df = pd.DataFrame(person)"
   ]
  },
  {
   "cell_type": "code",
   "execution_count": null,
   "id": "5d0ec933",
   "metadata": {},
   "outputs": [],
   "source": [
    "df"
   ]
  },
  {
   "cell_type": "code",
   "execution_count": null,
   "id": "447719c9",
   "metadata": {},
   "outputs": [],
   "source": [
    "df['Email'] # df.Email can also be used\n",
    "# use brackets method to avoid confusion"
   ]
  },
  {
   "cell_type": "code",
   "execution_count": null,
   "id": "b2d85127",
   "metadata": {},
   "outputs": [],
   "source": [
    "type(df['Email']) # it is series dtype i.e it is a list of data or one dimensional array\n",
    "# dataframe is a two dimensional array or the container for the multiple series"
   ]
  },
  {
   "cell_type": "code",
   "execution_count": null,
   "id": "10aebb0b",
   "metadata": {},
   "outputs": [],
   "source": [
    "df[['Last Name', 'Email']] # passing list inside the list to specify columns"
   ]
  },
  {
   "cell_type": "code",
   "execution_count": null,
   "id": "399cd5d3",
   "metadata": {},
   "outputs": [],
   "source": [
    "df.columns"
   ]
  },
  {
   "cell_type": "code",
   "execution_count": null,
   "id": "a14cdc7a",
   "metadata": {},
   "outputs": [],
   "source": [
    "df.iloc[[0,1]] # iloc is integer location which gives rows on the basis on index value\n",
    "# we can pass column as second arguement in iloc to determine which values to be diplayed\n",
    "# df.iloc[[0,1], 2]"
   ]
  },
  {
   "cell_type": "code",
   "execution_count": null,
   "id": "00f3e415",
   "metadata": {},
   "outputs": [],
   "source": [
    "df.loc[[0,1], 'Email'] # loc is used to pass indexes with labels\n",
    "# list of labels can also be passed which needs to be displayed\n",
    "# E.g ['Email', 'Last Name']"
   ]
  },
  {
   "cell_type": "code",
   "execution_count": null,
   "id": "44a84c8a",
   "metadata": {},
   "outputs": [],
   "source": [
    "df.set_index('Email', inplace=True) # this is used to set indexes unique for our conveneince and it also gives unique identifier for the rows\n",
    "# we can use inplace arguement to change the indexes in the dataframe else the changes won't reflect in dataframe\n",
    "# df.reset_index(inplace=True) can be used to reset the indexes in the df"
   ]
  },
  {
   "cell_type": "code",
   "execution_count": null,
   "id": "c139779f",
   "metadata": {},
   "outputs": [],
   "source": [
    "df"
   ]
  },
  {
   "cell_type": "code",
   "execution_count": null,
   "id": "5747a377",
   "metadata": {},
   "outputs": [],
   "source": [
    "df.index # shows all the indexes"
   ]
  },
  {
   "cell_type": "code",
   "execution_count": null,
   "id": "0b010b69",
   "metadata": {},
   "outputs": [],
   "source": [
    "df.loc['tonystark@email.com', 'Last Name'] # we can use our defined indexes with loc instead of using int values\n",
    "# Second arguement specifies which value to return"
   ]
  },
  {
   "cell_type": "code",
   "execution_count": null,
   "id": "2f55ab7c",
   "metadata": {},
   "outputs": [],
   "source": [
    "filt = (df['Last Name'] == 'Stark') # displays the result as t/f "
   ]
  },
  {
   "cell_type": "code",
   "execution_count": null,
   "id": "3b5d3a22",
   "metadata": {},
   "outputs": [],
   "source": [
    "df[filt] \n",
    "# this can also be written as:\n",
    "# df[df['Last Name'] == 'Stark']\n",
    "# df.loc[filt, 'Email']"
   ]
  },
  {
   "cell_type": "code",
   "execution_count": null,
   "id": "221b26c3",
   "metadata": {},
   "outputs": [],
   "source": [
    "filt = (df['Last Name'] == 'Stark') & (df['First Name'] == 'Tony')"
   ]
  },
  {
   "cell_type": "code",
   "execution_count": null,
   "id": "a83d2e33",
   "metadata": {},
   "outputs": [],
   "source": [
    "df[filt]"
   ]
  },
  {
   "cell_type": "code",
   "execution_count": null,
   "id": "f5683ff3",
   "metadata": {},
   "outputs": [],
   "source": [
    "filt = (df['Last Name'] != 'Stark') | (df['First Name'] == 'Steve')"
   ]
  },
  {
   "cell_type": "code",
   "execution_count": null,
   "id": "a428ddf9",
   "metadata": {},
   "outputs": [],
   "source": [
    "df[filt]"
   ]
  },
  {
   "cell_type": "code",
   "execution_count": null,
   "id": "a02b8c9c",
   "metadata": {},
   "outputs": [],
   "source": [
    "# df.columns = ['first', 'last', 'email'] allows us to to change names of the columns"
   ]
  },
  {
   "cell_type": "code",
   "execution_count": null,
   "id": "4055f232",
   "metadata": {},
   "outputs": [],
   "source": [
    "df.columns = ['First Name', 'Last Name']"
   ]
  },
  {
   "cell_type": "code",
   "execution_count": null,
   "id": "fb66242b",
   "metadata": {},
   "outputs": [],
   "source": [
    "df.columns = [x.upper() for x in df.columns] # used to capitalise column namesdf.columns"
   ]
  },
  {
   "cell_type": "code",
   "execution_count": null,
   "id": "9bd08a06",
   "metadata": {},
   "outputs": [],
   "source": [
    "df"
   ]
  },
  {
   "cell_type": "code",
   "execution_count": null,
   "id": "81b0aae7",
   "metadata": {},
   "outputs": [],
   "source": [
    "df.columns = df.columns.str.replace(' ', '_') # used to replace space with underscores in column names"
   ]
  },
  {
   "cell_type": "code",
   "execution_count": null,
   "id": "77e664aa",
   "metadata": {},
   "outputs": [],
   "source": [
    "df"
   ]
  },
  {
   "cell_type": "code",
   "execution_count": null,
   "id": "85a1dbfe",
   "metadata": {},
   "outputs": [],
   "source": [
    "df.rename(columns={'FIRST_NAME': 'first', 'LAST_NAME': 'last'}, inplace=True)"
   ]
  },
  {
   "cell_type": "code",
   "execution_count": null,
   "id": "0f9ef79c",
   "metadata": {},
   "outputs": [],
   "source": [
    "df"
   ]
  },
  {
   "cell_type": "code",
   "execution_count": null,
   "id": "5d56f4c5",
   "metadata": {},
   "outputs": [],
   "source": [
    "df.loc['steverogers@email.com'] = ['Stephen', 'strange']"
   ]
  },
  {
   "cell_type": "code",
   "execution_count": null,
   "id": "5f96b452",
   "metadata": {},
   "outputs": [],
   "source": [
    "df"
   ]
  },
  {
   "cell_type": "code",
   "execution_count": null,
   "id": "4a693248",
   "metadata": {},
   "outputs": [],
   "source": [
    "df.loc['doctorstrange@email.com', ['last']] = ['Weird']"
   ]
  },
  {
   "cell_type": "code",
   "execution_count": null,
   "id": "08ab0652",
   "metadata": {},
   "outputs": [],
   "source": [
    "df"
   ]
  },
  {
   "cell_type": "code",
   "execution_count": null,
   "id": "00c54cc4",
   "metadata": {},
   "outputs": [],
   "source": [
    "# df.at can also be used for loc"
   ]
  },
  {
   "cell_type": "code",
   "execution_count": null,
   "id": "81001ea0",
   "metadata": {},
   "outputs": [],
   "source": [
    "filt = (df['last'] == 'Weird')"
   ]
  },
  {
   "cell_type": "code",
   "execution_count": null,
   "id": "7312902d",
   "metadata": {},
   "outputs": [],
   "source": [
    "df.loc[filt, 'first'] = 'Scott'"
   ]
  },
  {
   "cell_type": "code",
   "execution_count": null,
   "id": "e84d4040",
   "metadata": {},
   "outputs": [],
   "source": [
    "df"
   ]
  },
  {
   "cell_type": "code",
   "execution_count": null,
   "id": "a3b5b3a0",
   "metadata": {},
   "outputs": [],
   "source": [
    "# df['email'] = df['email'].str.lower() is used to lower all the values of the column"
   ]
  },
  {
   "cell_type": "code",
   "execution_count": null,
   "id": "ed4d9f50",
   "metadata": {},
   "outputs": [],
   "source": [
    "df['first'].apply(len) # apply is used to apply methods to all the vlaues of a column"
   ]
  },
  {
   "cell_type": "code",
   "execution_count": null,
   "id": "2b50e78c",
   "metadata": {},
   "outputs": [],
   "source": [
    "def update_first(first):\n",
    "    return first.upper()"
   ]
  },
  {
   "cell_type": "code",
   "execution_count": null,
   "id": "7181e6c9",
   "metadata": {},
   "outputs": [],
   "source": [
    "df['first'].apply(update_first) # dont pass the func with () as it will execute the func there itself"
   ]
  },
  {
   "cell_type": "code",
   "execution_count": null,
   "id": "acbf9e2d",
   "metadata": {},
   "outputs": [],
   "source": [
    "df"
   ]
  },
  {
   "cell_type": "code",
   "execution_count": null,
   "id": "42be731d",
   "metadata": {},
   "outputs": [],
   "source": [
    "df['first'] = df['first'].apply(update_first)"
   ]
  },
  {
   "cell_type": "code",
   "execution_count": null,
   "id": "8a5afed0",
   "metadata": {},
   "outputs": [],
   "source": [
    "df['first'] = df['first'].apply(lambda x: x.lower())\n",
    "#lambda is an anonymous func which is used as in the arguements are passed and operations are performed on these arguements"
   ]
  },
  {
   "cell_type": "code",
   "execution_count": null,
   "id": "0edb1bcd",
   "metadata": {},
   "outputs": [],
   "source": [
    "df"
   ]
  },
  {
   "cell_type": "code",
   "execution_count": null,
   "id": "ce97ac4f",
   "metadata": {},
   "outputs": [],
   "source": [
    "df.apply(len) # len func is applied to the series which tells the length of the series\n",
    "#len(df['email'])"
   ]
  },
  {
   "cell_type": "code",
   "execution_count": null,
   "id": "7ad12852",
   "metadata": {},
   "outputs": [],
   "source": [
    "df.apply(len, axis='columns') # counting vertically"
   ]
  },
  {
   "cell_type": "code",
   "execution_count": null,
   "id": "15ceb845",
   "metadata": {},
   "outputs": [],
   "source": [
    "df.apply(pd.Series.min) # returns min value\n",
    "# df.apply(lambda x: x.min())"
   ]
  },
  {
   "cell_type": "code",
   "execution_count": null,
   "id": "e98dc032",
   "metadata": {},
   "outputs": [],
   "source": [
    "df.applymap(len) # applies len to every individial value\n",
    "# any method passed inside applymap is apllied on every value in dataframe"
   ]
  },
  {
   "cell_type": "code",
   "execution_count": null,
   "id": "6ebc8e74",
   "metadata": {},
   "outputs": [],
   "source": [
    "# df['first'].map can be used to change values in a column\n",
    "# simililarly df.replace can also be used"
   ]
  },
  {
   "cell_type": "code",
   "execution_count": null,
   "id": "9d640147",
   "metadata": {},
   "outputs": [],
   "source": [
    "df['full_name'] = df['first'] + \" \" + df['last'] # adding two columns"
   ]
  },
  {
   "cell_type": "code",
   "execution_count": null,
   "id": "0c511dfc",
   "metadata": {},
   "outputs": [],
   "source": [
    "df"
   ]
  },
  {
   "cell_type": "code",
   "execution_count": null,
   "id": "fb565ae5",
   "metadata": {},
   "outputs": [],
   "source": [
    "df.drop(columns=['first', 'last'], inplace=True) # removing columns"
   ]
  },
  {
   "cell_type": "code",
   "execution_count": null,
   "id": "eb75b496",
   "metadata": {},
   "outputs": [],
   "source": [
    "df"
   ]
  },
  {
   "cell_type": "code",
   "execution_count": null,
   "id": "c3fc4dfe",
   "metadata": {},
   "outputs": [],
   "source": [
    "df[['first', 'last']] = df['full_name'].str.split(' ', expand=True) #splitting full_name into two colummns"
   ]
  },
  {
   "cell_type": "code",
   "execution_count": null,
   "id": "8059f385",
   "metadata": {},
   "outputs": [],
   "source": [
    "df"
   ]
  },
  {
   "cell_type": "code",
   "execution_count": null,
   "id": "9a675191",
   "metadata": {},
   "outputs": [],
   "source": [
    "df.drop(columns='full_name', inplace=True)"
   ]
  },
  {
   "cell_type": "code",
   "execution_count": null,
   "id": "2a07b714",
   "metadata": {},
   "outputs": [],
   "source": [
    "df"
   ]
  },
  {
   "cell_type": "code",
   "execution_count": null,
   "id": "e37360df",
   "metadata": {},
   "outputs": [],
   "source": [
    "df.append({'first': 'Peter', 'last': 'Parker'}, ignore_index=True) # appending a row"
   ]
  },
  {
   "cell_type": "code",
   "execution_count": null,
   "id": "36f34766",
   "metadata": {},
   "outputs": [],
   "source": [
    "df"
   ]
  },
  {
   "cell_type": "code",
   "execution_count": null,
   "id": "877f6d2a",
   "metadata": {},
   "outputs": [],
   "source": [
    "person = {\n",
    "    \"first\": [\"Peter\", \"Bucky\"],\n",
    "    \"last\": [\"Parker\", \"Barns\"],\n",
    "    \"email\": [\"peter@email.com\", \"bucky@email.com\"]\n",
    "}"
   ]
  },
  {
   "cell_type": "code",
   "execution_count": null,
   "id": "e0963a7c",
   "metadata": {},
   "outputs": [],
   "source": [
    "df2 = pd.DataFrame(person)"
   ]
  },
  {
   "cell_type": "code",
   "execution_count": null,
   "id": "5c30bf6a",
   "metadata": {},
   "outputs": [],
   "source": [
    "df2"
   ]
  },
  {
   "cell_type": "code",
   "execution_count": null,
   "id": "fab64f89",
   "metadata": {},
   "outputs": [],
   "source": [
    "df = df.append(df2, ignore_index=True) # appending dataframe2 to our first dataframe and using ignore_index so as there are no conflicts in the indexes"
   ]
  },
  {
   "cell_type": "code",
   "execution_count": null,
   "id": "d74c2b28",
   "metadata": {},
   "outputs": [],
   "source": [
    "df"
   ]
  },
  {
   "cell_type": "code",
   "execution_count": null,
   "id": "1f46a7b5",
   "metadata": {},
   "outputs": [],
   "source": [
    "df.drop(index=3, inplace=True)"
   ]
  },
  {
   "cell_type": "code",
   "execution_count": null,
   "id": "724d5eb3",
   "metadata": {},
   "outputs": [],
   "source": [
    "filt = (df['last'] == 'Barns')"
   ]
  },
  {
   "cell_type": "code",
   "execution_count": null,
   "id": "53bea938",
   "metadata": {},
   "outputs": [],
   "source": [
    "df.drop(index=df[filt].index) # using filter to remove row\n",
    "# .index method is used to find the index for the filter"
   ]
  },
  {
   "cell_type": "code",
   "execution_count": null,
   "id": "0dec1ad9",
   "metadata": {},
   "outputs": [],
   "source": [
    "df.sort_values(by='last') #sorting the data based on last name\n",
    "#arguements can be used to sort in descending order"
   ]
  },
  {
   "cell_type": "code",
   "execution_count": null,
   "id": "8189e2c1",
   "metadata": {},
   "outputs": [],
   "source": [
    "df.sort_values(by=['last', 'first'], ascending=[False, True], inplace=True) # sorting on the basis of two columns\n",
    "# this will sort last name in descending order and first name in ascending order if same last names are there"
   ]
  },
  {
   "cell_type": "code",
   "execution_count": null,
   "id": "d83f2b40",
   "metadata": {},
   "outputs": [],
   "source": [
    "df"
   ]
  },
  {
   "cell_type": "code",
   "execution_count": null,
   "id": "aa503bc3",
   "metadata": {},
   "outputs": [],
   "source": [
    "df.sort_index()"
   ]
  },
  {
   "cell_type": "code",
   "execution_count": null,
   "id": "a6ff93b9",
   "metadata": {},
   "outputs": [],
   "source": [
    "df['last'].sort_values() # sorting series"
   ]
  },
  {
   "cell_type": "code",
   "execution_count": 8,
   "id": "0a861e8d",
   "metadata": {},
   "outputs": [],
   "source": [
    "people = {\n",
    "    'first': ['Tony', 'Peter', 'Steve', 'Chris', np.nan, None, 'NA'],\n",
    "    'last': ['Stark', 'Parker', 'Rogers', 'Evans', np.nan, np.nan, 'Missing'],\n",
    "    'email': ['ts@email.com', 'pp@email.com', 'ce@email.com', None, np.nan, np.nan, None],\n",
    "    'age': ['33', '26','42', '56', np.nan, np.nan, None]\n",
    "}\n",
    "# nan is not-a-number"
   ]
  },
  {
   "cell_type": "code",
   "execution_count": 21,
   "id": "9bc8daf3",
   "metadata": {},
   "outputs": [],
   "source": [
    "df2 = pd.DataFrame(people)\n",
    "\n",
    "df2.replace('NA', np.nan, inplace=True)\n",
    "df2.replace('Missing', np.nan, inplace=True)"
   ]
  },
  {
   "cell_type": "code",
   "execution_count": 22,
   "id": "7293521f",
   "metadata": {},
   "outputs": [
    {
     "data": {
      "text/html": [
       "<div>\n",
       "<style scoped>\n",
       "    .dataframe tbody tr th:only-of-type {\n",
       "        vertical-align: middle;\n",
       "    }\n",
       "\n",
       "    .dataframe tbody tr th {\n",
       "        vertical-align: top;\n",
       "    }\n",
       "\n",
       "    .dataframe thead th {\n",
       "        text-align: right;\n",
       "    }\n",
       "</style>\n",
       "<table border=\"1\" class=\"dataframe\">\n",
       "  <thead>\n",
       "    <tr style=\"text-align: right;\">\n",
       "      <th></th>\n",
       "      <th>first</th>\n",
       "      <th>last</th>\n",
       "      <th>email</th>\n",
       "      <th>age</th>\n",
       "    </tr>\n",
       "  </thead>\n",
       "  <tbody>\n",
       "    <tr>\n",
       "      <th>0</th>\n",
       "      <td>Tony</td>\n",
       "      <td>Stark</td>\n",
       "      <td>ts@email.com</td>\n",
       "      <td>33</td>\n",
       "    </tr>\n",
       "    <tr>\n",
       "      <th>1</th>\n",
       "      <td>Peter</td>\n",
       "      <td>Parker</td>\n",
       "      <td>pp@email.com</td>\n",
       "      <td>26</td>\n",
       "    </tr>\n",
       "    <tr>\n",
       "      <th>2</th>\n",
       "      <td>Steve</td>\n",
       "      <td>Rogers</td>\n",
       "      <td>ce@email.com</td>\n",
       "      <td>42</td>\n",
       "    </tr>\n",
       "    <tr>\n",
       "      <th>3</th>\n",
       "      <td>Chris</td>\n",
       "      <td>Evans</td>\n",
       "      <td>None</td>\n",
       "      <td>56</td>\n",
       "    </tr>\n",
       "    <tr>\n",
       "      <th>4</th>\n",
       "      <td>NaN</td>\n",
       "      <td>NaN</td>\n",
       "      <td>NaN</td>\n",
       "      <td>NaN</td>\n",
       "    </tr>\n",
       "    <tr>\n",
       "      <th>5</th>\n",
       "      <td>None</td>\n",
       "      <td>NaN</td>\n",
       "      <td>NaN</td>\n",
       "      <td>NaN</td>\n",
       "    </tr>\n",
       "    <tr>\n",
       "      <th>6</th>\n",
       "      <td>NaN</td>\n",
       "      <td>NaN</td>\n",
       "      <td>None</td>\n",
       "      <td>None</td>\n",
       "    </tr>\n",
       "  </tbody>\n",
       "</table>\n",
       "</div>"
      ],
      "text/plain": [
       "   first    last         email   age\n",
       "0   Tony   Stark  ts@email.com    33\n",
       "1  Peter  Parker  pp@email.com    26\n",
       "2  Steve  Rogers  ce@email.com    42\n",
       "3  Chris   Evans          None    56\n",
       "4    NaN     NaN           NaN   NaN\n",
       "5   None     NaN           NaN   NaN\n",
       "6    NaN     NaN          None  None"
      ]
     },
     "execution_count": 22,
     "metadata": {},
     "output_type": "execute_result"
    }
   ],
   "source": [
    "df2"
   ]
  },
  {
   "cell_type": "code",
   "execution_count": 11,
   "id": "c7130a6e",
   "metadata": {},
   "outputs": [
    {
     "data": {
      "text/html": [
       "<div>\n",
       "<style scoped>\n",
       "    .dataframe tbody tr th:only-of-type {\n",
       "        vertical-align: middle;\n",
       "    }\n",
       "\n",
       "    .dataframe tbody tr th {\n",
       "        vertical-align: top;\n",
       "    }\n",
       "\n",
       "    .dataframe thead th {\n",
       "        text-align: right;\n",
       "    }\n",
       "</style>\n",
       "<table border=\"1\" class=\"dataframe\">\n",
       "  <thead>\n",
       "    <tr style=\"text-align: right;\">\n",
       "      <th></th>\n",
       "      <th>first</th>\n",
       "      <th>last</th>\n",
       "      <th>email</th>\n",
       "      <th>age</th>\n",
       "    </tr>\n",
       "  </thead>\n",
       "  <tbody>\n",
       "    <tr>\n",
       "      <th>0</th>\n",
       "      <td>Tony</td>\n",
       "      <td>Stark</td>\n",
       "      <td>ts@email.com</td>\n",
       "      <td>33</td>\n",
       "    </tr>\n",
       "    <tr>\n",
       "      <th>1</th>\n",
       "      <td>Peter</td>\n",
       "      <td>Parker</td>\n",
       "      <td>pp@email.com</td>\n",
       "      <td>26</td>\n",
       "    </tr>\n",
       "    <tr>\n",
       "      <th>2</th>\n",
       "      <td>Steve</td>\n",
       "      <td>Rogers</td>\n",
       "      <td>ce@email.com</td>\n",
       "      <td>42</td>\n",
       "    </tr>\n",
       "  </tbody>\n",
       "</table>\n",
       "</div>"
      ],
      "text/plain": [
       "   first    last         email age\n",
       "0   Tony   Stark  ts@email.com  33\n",
       "1  Peter  Parker  pp@email.com  26\n",
       "2  Steve  Rogers  ce@email.com  42"
      ]
     },
     "execution_count": 11,
     "metadata": {},
     "output_type": "execute_result"
    }
   ],
   "source": [
    "df2.dropna()"
   ]
  },
  {
   "cell_type": "code",
   "execution_count": 13,
   "id": "f379380e",
   "metadata": {},
   "outputs": [
    {
     "data": {
      "text/html": [
       "<div>\n",
       "<style scoped>\n",
       "    .dataframe tbody tr th:only-of-type {\n",
       "        vertical-align: middle;\n",
       "    }\n",
       "\n",
       "    .dataframe tbody tr th {\n",
       "        vertical-align: top;\n",
       "    }\n",
       "\n",
       "    .dataframe thead th {\n",
       "        text-align: right;\n",
       "    }\n",
       "</style>\n",
       "<table border=\"1\" class=\"dataframe\">\n",
       "  <thead>\n",
       "    <tr style=\"text-align: right;\">\n",
       "      <th></th>\n",
       "      <th>first</th>\n",
       "      <th>last</th>\n",
       "      <th>email</th>\n",
       "      <th>age</th>\n",
       "    </tr>\n",
       "  </thead>\n",
       "  <tbody>\n",
       "    <tr>\n",
       "      <th>0</th>\n",
       "      <td>Tony</td>\n",
       "      <td>Stark</td>\n",
       "      <td>ts@email.com</td>\n",
       "      <td>33</td>\n",
       "    </tr>\n",
       "    <tr>\n",
       "      <th>1</th>\n",
       "      <td>Peter</td>\n",
       "      <td>Parker</td>\n",
       "      <td>pp@email.com</td>\n",
       "      <td>26</td>\n",
       "    </tr>\n",
       "    <tr>\n",
       "      <th>2</th>\n",
       "      <td>Steve</td>\n",
       "      <td>Rogers</td>\n",
       "      <td>ce@email.com</td>\n",
       "      <td>42</td>\n",
       "    </tr>\n",
       "  </tbody>\n",
       "</table>\n",
       "</div>"
      ],
      "text/plain": [
       "   first    last         email age\n",
       "0   Tony   Stark  ts@email.com  33\n",
       "1  Peter  Parker  pp@email.com  26\n",
       "2  Steve  Rogers  ce@email.com  42"
      ]
     },
     "execution_count": 13,
     "metadata": {},
     "output_type": "execute_result"
    }
   ],
   "source": [
    "df2.dropna(axis='index', how='any')\n",
    "# dropping rows with any missing values"
   ]
  },
  {
   "cell_type": "code",
   "execution_count": 14,
   "id": "9364df59",
   "metadata": {},
   "outputs": [
    {
     "data": {
      "text/html": [
       "<div>\n",
       "<style scoped>\n",
       "    .dataframe tbody tr th:only-of-type {\n",
       "        vertical-align: middle;\n",
       "    }\n",
       "\n",
       "    .dataframe tbody tr th {\n",
       "        vertical-align: top;\n",
       "    }\n",
       "\n",
       "    .dataframe thead th {\n",
       "        text-align: right;\n",
       "    }\n",
       "</style>\n",
       "<table border=\"1\" class=\"dataframe\">\n",
       "  <thead>\n",
       "    <tr style=\"text-align: right;\">\n",
       "      <th></th>\n",
       "      <th>first</th>\n",
       "      <th>last</th>\n",
       "      <th>email</th>\n",
       "      <th>age</th>\n",
       "    </tr>\n",
       "  </thead>\n",
       "  <tbody>\n",
       "    <tr>\n",
       "      <th>0</th>\n",
       "      <td>Tony</td>\n",
       "      <td>Stark</td>\n",
       "      <td>ts@email.com</td>\n",
       "      <td>33</td>\n",
       "    </tr>\n",
       "    <tr>\n",
       "      <th>1</th>\n",
       "      <td>Peter</td>\n",
       "      <td>Parker</td>\n",
       "      <td>pp@email.com</td>\n",
       "      <td>26</td>\n",
       "    </tr>\n",
       "    <tr>\n",
       "      <th>2</th>\n",
       "      <td>Steve</td>\n",
       "      <td>Rogers</td>\n",
       "      <td>ce@email.com</td>\n",
       "      <td>42</td>\n",
       "    </tr>\n",
       "    <tr>\n",
       "      <th>3</th>\n",
       "      <td>Chris</td>\n",
       "      <td>Evans</td>\n",
       "      <td>None</td>\n",
       "      <td>56</td>\n",
       "    </tr>\n",
       "    <tr>\n",
       "      <th>6</th>\n",
       "      <td>NA</td>\n",
       "      <td>Missing</td>\n",
       "      <td>None</td>\n",
       "      <td>None</td>\n",
       "    </tr>\n",
       "  </tbody>\n",
       "</table>\n",
       "</div>"
      ],
      "text/plain": [
       "   first     last         email   age\n",
       "0   Tony    Stark  ts@email.com    33\n",
       "1  Peter   Parker  pp@email.com    26\n",
       "2  Steve   Rogers  ce@email.com    42\n",
       "3  Chris    Evans          None    56\n",
       "6     NA  Missing          None  None"
      ]
     },
     "execution_count": 14,
     "metadata": {},
     "output_type": "execute_result"
    }
   ],
   "source": [
    "df2.dropna(axis='index', how='all')\n",
    "# this drop the row if all the values are NA"
   ]
  },
  {
   "cell_type": "code",
   "execution_count": 15,
   "id": "8a1d2694",
   "metadata": {},
   "outputs": [
    {
     "data": {
      "text/html": [
       "<div>\n",
       "<style scoped>\n",
       "    .dataframe tbody tr th:only-of-type {\n",
       "        vertical-align: middle;\n",
       "    }\n",
       "\n",
       "    .dataframe tbody tr th {\n",
       "        vertical-align: top;\n",
       "    }\n",
       "\n",
       "    .dataframe thead th {\n",
       "        text-align: right;\n",
       "    }\n",
       "</style>\n",
       "<table border=\"1\" class=\"dataframe\">\n",
       "  <thead>\n",
       "    <tr style=\"text-align: right;\">\n",
       "      <th></th>\n",
       "      <th>first</th>\n",
       "      <th>last</th>\n",
       "      <th>email</th>\n",
       "      <th>age</th>\n",
       "    </tr>\n",
       "  </thead>\n",
       "  <tbody>\n",
       "    <tr>\n",
       "      <th>0</th>\n",
       "      <td>Tony</td>\n",
       "      <td>Stark</td>\n",
       "      <td>ts@email.com</td>\n",
       "      <td>33</td>\n",
       "    </tr>\n",
       "    <tr>\n",
       "      <th>1</th>\n",
       "      <td>Peter</td>\n",
       "      <td>Parker</td>\n",
       "      <td>pp@email.com</td>\n",
       "      <td>26</td>\n",
       "    </tr>\n",
       "    <tr>\n",
       "      <th>2</th>\n",
       "      <td>Steve</td>\n",
       "      <td>Rogers</td>\n",
       "      <td>ce@email.com</td>\n",
       "      <td>42</td>\n",
       "    </tr>\n",
       "    <tr>\n",
       "      <th>3</th>\n",
       "      <td>Chris</td>\n",
       "      <td>Evans</td>\n",
       "      <td>None</td>\n",
       "      <td>56</td>\n",
       "    </tr>\n",
       "    <tr>\n",
       "      <th>4</th>\n",
       "      <td>NaN</td>\n",
       "      <td>NaN</td>\n",
       "      <td>NaN</td>\n",
       "      <td>NaN</td>\n",
       "    </tr>\n",
       "    <tr>\n",
       "      <th>5</th>\n",
       "      <td>None</td>\n",
       "      <td>NaN</td>\n",
       "      <td>NaN</td>\n",
       "      <td>NaN</td>\n",
       "    </tr>\n",
       "    <tr>\n",
       "      <th>6</th>\n",
       "      <td>NA</td>\n",
       "      <td>Missing</td>\n",
       "      <td>None</td>\n",
       "      <td>None</td>\n",
       "    </tr>\n",
       "  </tbody>\n",
       "</table>\n",
       "</div>"
      ],
      "text/plain": [
       "   first     last         email   age\n",
       "0   Tony    Stark  ts@email.com    33\n",
       "1  Peter   Parker  pp@email.com    26\n",
       "2  Steve   Rogers  ce@email.com    42\n",
       "3  Chris    Evans          None    56\n",
       "4    NaN      NaN           NaN   NaN\n",
       "5   None      NaN           NaN   NaN\n",
       "6     NA  Missing          None  None"
      ]
     },
     "execution_count": 15,
     "metadata": {},
     "output_type": "execute_result"
    }
   ],
   "source": [
    "df2.dropna(axis='columns', how='all')"
   ]
  },
  {
   "cell_type": "code",
   "execution_count": 23,
   "id": "e1b26213",
   "metadata": {},
   "outputs": [
    {
     "data": {
      "text/html": [
       "<div>\n",
       "<style scoped>\n",
       "    .dataframe tbody tr th:only-of-type {\n",
       "        vertical-align: middle;\n",
       "    }\n",
       "\n",
       "    .dataframe tbody tr th {\n",
       "        vertical-align: top;\n",
       "    }\n",
       "\n",
       "    .dataframe thead th {\n",
       "        text-align: right;\n",
       "    }\n",
       "</style>\n",
       "<table border=\"1\" class=\"dataframe\">\n",
       "  <thead>\n",
       "    <tr style=\"text-align: right;\">\n",
       "      <th></th>\n",
       "      <th>first</th>\n",
       "      <th>last</th>\n",
       "      <th>email</th>\n",
       "      <th>age</th>\n",
       "    </tr>\n",
       "  </thead>\n",
       "  <tbody>\n",
       "    <tr>\n",
       "      <th>0</th>\n",
       "      <td>Tony</td>\n",
       "      <td>Stark</td>\n",
       "      <td>ts@email.com</td>\n",
       "      <td>33</td>\n",
       "    </tr>\n",
       "    <tr>\n",
       "      <th>1</th>\n",
       "      <td>Peter</td>\n",
       "      <td>Parker</td>\n",
       "      <td>pp@email.com</td>\n",
       "      <td>26</td>\n",
       "    </tr>\n",
       "    <tr>\n",
       "      <th>2</th>\n",
       "      <td>Steve</td>\n",
       "      <td>Rogers</td>\n",
       "      <td>ce@email.com</td>\n",
       "      <td>42</td>\n",
       "    </tr>\n",
       "    <tr>\n",
       "      <th>3</th>\n",
       "      <td>Chris</td>\n",
       "      <td>Evans</td>\n",
       "      <td>None</td>\n",
       "      <td>56</td>\n",
       "    </tr>\n",
       "  </tbody>\n",
       "</table>\n",
       "</div>"
      ],
      "text/plain": [
       "   first    last         email age\n",
       "0   Tony   Stark  ts@email.com  33\n",
       "1  Peter  Parker  pp@email.com  26\n",
       "2  Steve  Rogers  ce@email.com  42\n",
       "3  Chris   Evans          None  56"
      ]
     },
     "execution_count": 23,
     "metadata": {},
     "output_type": "execute_result"
    }
   ],
   "source": [
    "df2.dropna(axis='index', how='all', subset=['last', 'email'])"
   ]
  },
  {
   "cell_type": "code",
   "execution_count": 24,
   "id": "4beaab63",
   "metadata": {},
   "outputs": [
    {
     "data": {
      "text/html": [
       "<div>\n",
       "<style scoped>\n",
       "    .dataframe tbody tr th:only-of-type {\n",
       "        vertical-align: middle;\n",
       "    }\n",
       "\n",
       "    .dataframe tbody tr th {\n",
       "        vertical-align: top;\n",
       "    }\n",
       "\n",
       "    .dataframe thead th {\n",
       "        text-align: right;\n",
       "    }\n",
       "</style>\n",
       "<table border=\"1\" class=\"dataframe\">\n",
       "  <thead>\n",
       "    <tr style=\"text-align: right;\">\n",
       "      <th></th>\n",
       "      <th>first</th>\n",
       "      <th>last</th>\n",
       "      <th>email</th>\n",
       "      <th>age</th>\n",
       "    </tr>\n",
       "  </thead>\n",
       "  <tbody>\n",
       "    <tr>\n",
       "      <th>0</th>\n",
       "      <td>Tony</td>\n",
       "      <td>Stark</td>\n",
       "      <td>ts@email.com</td>\n",
       "      <td>33</td>\n",
       "    </tr>\n",
       "    <tr>\n",
       "      <th>1</th>\n",
       "      <td>Peter</td>\n",
       "      <td>Parker</td>\n",
       "      <td>pp@email.com</td>\n",
       "      <td>26</td>\n",
       "    </tr>\n",
       "    <tr>\n",
       "      <th>2</th>\n",
       "      <td>Steve</td>\n",
       "      <td>Rogers</td>\n",
       "      <td>ce@email.com</td>\n",
       "      <td>42</td>\n",
       "    </tr>\n",
       "    <tr>\n",
       "      <th>3</th>\n",
       "      <td>Chris</td>\n",
       "      <td>Evans</td>\n",
       "      <td>Missing</td>\n",
       "      <td>56</td>\n",
       "    </tr>\n",
       "    <tr>\n",
       "      <th>4</th>\n",
       "      <td>Missing</td>\n",
       "      <td>Missing</td>\n",
       "      <td>Missing</td>\n",
       "      <td>Missing</td>\n",
       "    </tr>\n",
       "    <tr>\n",
       "      <th>5</th>\n",
       "      <td>Missing</td>\n",
       "      <td>Missing</td>\n",
       "      <td>Missing</td>\n",
       "      <td>Missing</td>\n",
       "    </tr>\n",
       "    <tr>\n",
       "      <th>6</th>\n",
       "      <td>Missing</td>\n",
       "      <td>Missing</td>\n",
       "      <td>Missing</td>\n",
       "      <td>Missing</td>\n",
       "    </tr>\n",
       "  </tbody>\n",
       "</table>\n",
       "</div>"
      ],
      "text/plain": [
       "     first     last         email      age\n",
       "0     Tony    Stark  ts@email.com       33\n",
       "1    Peter   Parker  pp@email.com       26\n",
       "2    Steve   Rogers  ce@email.com       42\n",
       "3    Chris    Evans       Missing       56\n",
       "4  Missing  Missing       Missing  Missing\n",
       "5  Missing  Missing       Missing  Missing\n",
       "6  Missing  Missing       Missing  Missing"
      ]
     },
     "execution_count": 24,
     "metadata": {},
     "output_type": "execute_result"
    }
   ],
   "source": [
    "df2.fillna('Missing') # Filling all NaN values with Missing"
   ]
  },
  {
   "cell_type": "code",
   "execution_count": 26,
   "id": "3a45cc99",
   "metadata": {},
   "outputs": [],
   "source": [
    "df2['age'] = df2['age'].astype(float)"
   ]
  },
  {
   "cell_type": "code",
   "execution_count": 28,
   "id": "6c8e051f",
   "metadata": {},
   "outputs": [
    {
     "data": {
      "text/plain": [
       "first     object\n",
       "last      object\n",
       "email     object\n",
       "age      float64\n",
       "dtype: object"
      ]
     },
     "execution_count": 28,
     "metadata": {},
     "output_type": "execute_result"
    }
   ],
   "source": [
    "df2.dtypes"
   ]
  },
  {
   "cell_type": "code",
   "execution_count": 29,
   "id": "9cd6047a",
   "metadata": {},
   "outputs": [
    {
     "data": {
      "text/plain": [
       "39.25"
      ]
     },
     "execution_count": 29,
     "metadata": {},
     "output_type": "execute_result"
    }
   ],
   "source": [
    "df2['age'].mean()"
   ]
  },
  {
   "cell_type": "code",
   "execution_count": 30,
   "id": "33e0a5eb",
   "metadata": {},
   "outputs": [
    {
     "data": {
      "text/html": [
       "<div>\n",
       "<style scoped>\n",
       "    .dataframe tbody tr th:only-of-type {\n",
       "        vertical-align: middle;\n",
       "    }\n",
       "\n",
       "    .dataframe tbody tr th {\n",
       "        vertical-align: top;\n",
       "    }\n",
       "\n",
       "    .dataframe thead th {\n",
       "        text-align: right;\n",
       "    }\n",
       "</style>\n",
       "<table border=\"1\" class=\"dataframe\">\n",
       "  <thead>\n",
       "    <tr style=\"text-align: right;\">\n",
       "      <th></th>\n",
       "      <th>first</th>\n",
       "      <th>last</th>\n",
       "      <th>email</th>\n",
       "      <th>age</th>\n",
       "    </tr>\n",
       "  </thead>\n",
       "  <tbody>\n",
       "    <tr>\n",
       "      <th>0</th>\n",
       "      <td>Tony</td>\n",
       "      <td>Stark</td>\n",
       "      <td>ts@email.com</td>\n",
       "      <td>33.0</td>\n",
       "    </tr>\n",
       "    <tr>\n",
       "      <th>1</th>\n",
       "      <td>Peter</td>\n",
       "      <td>Parker</td>\n",
       "      <td>pp@email.com</td>\n",
       "      <td>26.0</td>\n",
       "    </tr>\n",
       "    <tr>\n",
       "      <th>2</th>\n",
       "      <td>Steve</td>\n",
       "      <td>Rogers</td>\n",
       "      <td>ce@email.com</td>\n",
       "      <td>42.0</td>\n",
       "    </tr>\n",
       "    <tr>\n",
       "      <th>3</th>\n",
       "      <td>Chris</td>\n",
       "      <td>Evans</td>\n",
       "      <td>None</td>\n",
       "      <td>56.0</td>\n",
       "    </tr>\n",
       "    <tr>\n",
       "      <th>4</th>\n",
       "      <td>NaN</td>\n",
       "      <td>NaN</td>\n",
       "      <td>NaN</td>\n",
       "      <td>NaN</td>\n",
       "    </tr>\n",
       "    <tr>\n",
       "      <th>5</th>\n",
       "      <td>None</td>\n",
       "      <td>NaN</td>\n",
       "      <td>NaN</td>\n",
       "      <td>NaN</td>\n",
       "    </tr>\n",
       "    <tr>\n",
       "      <th>6</th>\n",
       "      <td>NaN</td>\n",
       "      <td>NaN</td>\n",
       "      <td>None</td>\n",
       "      <td>NaN</td>\n",
       "    </tr>\n",
       "  </tbody>\n",
       "</table>\n",
       "</div>"
      ],
      "text/plain": [
       "   first    last         email   age\n",
       "0   Tony   Stark  ts@email.com  33.0\n",
       "1  Peter  Parker  pp@email.com  26.0\n",
       "2  Steve  Rogers  ce@email.com  42.0\n",
       "3  Chris   Evans          None  56.0\n",
       "4    NaN     NaN           NaN   NaN\n",
       "5   None     NaN           NaN   NaN\n",
       "6    NaN     NaN          None   NaN"
      ]
     },
     "execution_count": 30,
     "metadata": {},
     "output_type": "execute_result"
    }
   ],
   "source": [
    "df2"
   ]
  },
  {
   "cell_type": "code",
   "execution_count": null,
   "id": "1cb5dc1b",
   "metadata": {},
   "outputs": [],
   "source": []
  }
 ],
 "metadata": {
  "kernelspec": {
   "display_name": "Python 3",
   "language": "python",
   "name": "python3"
  },
  "language_info": {
   "codemirror_mode": {
    "name": "ipython",
    "version": 3
   },
   "file_extension": ".py",
   "mimetype": "text/x-python",
   "name": "python",
   "nbconvert_exporter": "python",
   "pygments_lexer": "ipython3",
   "version": "3.8.5"
  }
 },
 "nbformat": 4,
 "nbformat_minor": 5
}
